{
 "cells": [
  {
   "cell_type": "code",
   "execution_count": 1,
   "metadata": {},
   "outputs": [],
   "source": [
    "# Dependencies and Setup\n",
    "import pandas as pd\n",
    "\n",
    "# Load and read csv file\n",
    "file_to_load = \"Resources/purchase_data.csv\"\n",
    "\n",
    "# Read Purchasing File and store into Pandas data frame\n",
    "purchase_data = pd.read_csv(file_to_load)"
   ]
  },
  {
   "cell_type": "markdown",
   "metadata": {},
   "source": [
    "## Player Count"
   ]
  },
  {
   "cell_type": "markdown",
   "metadata": {},
   "source": [
    "* Display the total number of players\n"
   ]
  },
  {
   "cell_type": "code",
   "execution_count": 2,
   "metadata": {},
   "outputs": [
    {
     "name": "stdout",
     "output_type": "stream",
     "text": [
      " Total Players\n",
      "           576\n"
     ]
    }
   ],
   "source": [
    "player_count = len(purchase_data[\"SN\"].value_counts())\n",
    "\n",
    "number_of_players = pd.DataFrame({\"Total Players\":[player_count]})\n",
    "print(number_of_players.to_string(index=False))"
   ]
  },
  {
   "cell_type": "markdown",
   "metadata": {},
   "source": [
    "## Purchasing Analysis (Total)"
   ]
  },
  {
   "cell_type": "markdown",
   "metadata": {},
   "source": [
    "* Run basic calculations to obtain number of unique items, average price, etc.\n",
    "\n",
    "\n",
    "* Create a summary data frame to hold the results\n",
    "\n",
    "\n",
    "* Optional: give the displayed data cleaner formatting\n",
    "\n",
    "\n",
    "* Display the summary data frame\n"
   ]
  },
  {
   "cell_type": "code",
   "execution_count": 3,
   "metadata": {
    "scrolled": true
   },
   "outputs": [
    {
     "data": {
      "text/html": [
       "<div>\n",
       "<style scoped>\n",
       "    .dataframe tbody tr th:only-of-type {\n",
       "        vertical-align: middle;\n",
       "    }\n",
       "\n",
       "    .dataframe tbody tr th {\n",
       "        vertical-align: top;\n",
       "    }\n",
       "\n",
       "    .dataframe thead th {\n",
       "        text-align: right;\n",
       "    }\n",
       "</style>\n",
       "<table border=\"1\" class=\"dataframe\">\n",
       "  <thead>\n",
       "    <tr style=\"text-align: right;\">\n",
       "      <th></th>\n",
       "      <th>Number of Unique Items</th>\n",
       "      <th>Avg Price</th>\n",
       "      <th>Total Number of Purchases</th>\n",
       "      <th>Total Revenue</th>\n",
       "    </tr>\n",
       "  </thead>\n",
       "  <tbody>\n",
       "    <tr>\n",
       "      <th>0</th>\n",
       "      <td>179</td>\n",
       "      <td>$3.05</td>\n",
       "      <td>780</td>\n",
       "      <td>$2379.77</td>\n",
       "    </tr>\n",
       "  </tbody>\n",
       "</table>\n",
       "</div>"
      ],
      "text/plain": [
       "   Number of Unique Items Avg Price  Total Number of Purchases Total Revenue\n",
       "0                     179     $3.05                        780      $2379.77"
      ]
     },
     "execution_count": 3,
     "metadata": {},
     "output_type": "execute_result"
    }
   ],
   "source": [
    "# Number of unique items\n",
    "unique_items = len(purchase_data[\"Item Name\"].unique())\n",
    "\n",
    "# Average purchase price\n",
    "avg_price = purchase_data[\"Price\"].mean()\n",
    "\n",
    "#Total number of purchases\n",
    "total_purchases = len(purchase_data[\"Purchase ID\"])\n",
    "\n",
    "# Total revenue\n",
    "total_revenue = purchase_data[\"Price\"].sum() \n",
    "\n",
    "purchase_analysis = pd.DataFrame({\"Number of Unique Items\": [unique_items],\n",
    "                                 \"Avg Price\": avg_price,\n",
    "                                 \"Total Number of Purchases\": total_purchases,\n",
    "                                 \"Total Revenue\": total_revenue})\n",
    "\n",
    "# Formatting\n",
    "purchase_analysis[\"Avg Price\"] = purchase_analysis[\"Avg Price\"].map(\"${:.2f}\".format)\n",
    "purchase_analysis[\"Total Revenue\"] = purchase_analysis[\"Total Revenue\"].map(\"${:.2f}\".format)\n",
    "purchase_analysis"
   ]
  },
  {
   "cell_type": "markdown",
   "metadata": {},
   "source": [
    "## Gender Demographics"
   ]
  },
  {
   "cell_type": "markdown",
   "metadata": {},
   "source": [
    "* Percentage and Count of Male Players\n",
    "\n",
    "\n",
    "* Percentage and Count of Female Players\n",
    "\n",
    "\n",
    "* Percentage and Count of Other / Non-Disclosed\n",
    "\n",
    "\n"
   ]
  },
  {
   "cell_type": "code",
   "execution_count": 4,
   "metadata": {},
   "outputs": [
    {
     "data": {
      "text/html": [
       "<style  type=\"text/css\" >\n",
       "</style><table id=\"T_1f2c40d0_d352_11ea_89fc_9c305b4a6538\" ><thead>    <tr>        <th class=\"blank level0\" ></th>        <th class=\"col_heading level0 col0\" >Percentage of Players</th>        <th class=\"col_heading level0 col1\" >Total Count</th>    </tr></thead><tbody>\n",
       "                <tr>\n",
       "                        <th id=\"T_1f2c40d0_d352_11ea_89fc_9c305b4a6538level0_row0\" class=\"row_heading level0 row0\" >Male</th>\n",
       "                        <td id=\"T_1f2c40d0_d352_11ea_89fc_9c305b4a6538row0_col0\" class=\"data row0 col0\" >84.03%</td>\n",
       "                        <td id=\"T_1f2c40d0_d352_11ea_89fc_9c305b4a6538row0_col1\" class=\"data row0 col1\" >484</td>\n",
       "            </tr>\n",
       "            <tr>\n",
       "                        <th id=\"T_1f2c40d0_d352_11ea_89fc_9c305b4a6538level0_row1\" class=\"row_heading level0 row1\" >Female</th>\n",
       "                        <td id=\"T_1f2c40d0_d352_11ea_89fc_9c305b4a6538row1_col0\" class=\"data row1 col0\" >14.06%</td>\n",
       "                        <td id=\"T_1f2c40d0_d352_11ea_89fc_9c305b4a6538row1_col1\" class=\"data row1 col1\" >81</td>\n",
       "            </tr>\n",
       "            <tr>\n",
       "                        <th id=\"T_1f2c40d0_d352_11ea_89fc_9c305b4a6538level0_row2\" class=\"row_heading level0 row2\" >Other / Non-Disclosed</th>\n",
       "                        <td id=\"T_1f2c40d0_d352_11ea_89fc_9c305b4a6538row2_col0\" class=\"data row2 col0\" >1.91%</td>\n",
       "                        <td id=\"T_1f2c40d0_d352_11ea_89fc_9c305b4a6538row2_col1\" class=\"data row2 col1\" >11</td>\n",
       "            </tr>\n",
       "    </tbody></table>"
      ],
      "text/plain": [
       "<pandas.io.formats.style.Styler at 0x298f513d748>"
      ]
     },
     "execution_count": 4,
     "metadata": {},
     "output_type": "execute_result"
    }
   ],
   "source": [
    "# Gender Demographics\n",
    "gender_stats = purchase_data.groupby(\"Gender\")\n",
    "\n",
    "# Count the total of screen names \"SN\" by gender\n",
    "TCG = gender_stats.nunique()[\"SN\"]\n",
    "\n",
    "# Total count by gender and divivde by total players \n",
    "percentage_of_players = (TCG / player_count) * 100\n",
    "\n",
    "# Create data frame\n",
    "gender_demographics = pd.DataFrame({\"Percentage of Players\": percentage_of_players,\n",
    "                                    \"Total Count\": TCG})\n",
    "\n",
    "# Remove index\n",
    "gender_demographics.index.name = None\n",
    "\n",
    "# Format values\n",
    "gender_demographics.sort_values([\"Total Count\"], \n",
    "                                ascending = False).style.format({\"Percentage of Players\":\"{:.2f}%\"})"
   ]
  },
  {
   "cell_type": "markdown",
   "metadata": {},
   "source": [
    "\n",
    "## Purchasing Analysis (Gender)"
   ]
  },
  {
   "cell_type": "markdown",
   "metadata": {},
   "source": [
    "* Run basic calculations to obtain purchase count, avg. purchase price, avg. purchase total per person etc. by gender\n",
    "\n",
    "\n",
    "\n",
    "\n",
    "* Create a summary data frame to hold the results\n",
    "\n",
    "\n",
    "* Optional: give the displayed data cleaner formatting\n",
    "\n",
    "\n",
    "* Display the summary data frame"
   ]
  },
  {
   "cell_type": "code",
   "execution_count": 5,
   "metadata": {},
   "outputs": [
    {
     "data": {
      "text/html": [
       "<style  type=\"text/css\" >\n",
       "</style><table id=\"T_1f3083c6_d352_11ea_9887_9c305b4a6538\" ><thead>    <tr>        <th class=\"blank level0\" ></th>        <th class=\"col_heading level0 col0\" >Purchase Count</th>        <th class=\"col_heading level0 col1\" >Avg Purchase Price</th>        <th class=\"col_heading level0 col2\" >Avg Purchase Value</th>        <th class=\"col_heading level0 col3\" >Avg Purchase Total per Person</th>    </tr>    <tr>        <th class=\"index_name level0\" >Gender</th>        <th class=\"blank\" ></th>        <th class=\"blank\" ></th>        <th class=\"blank\" ></th>        <th class=\"blank\" ></th>    </tr></thead><tbody>\n",
       "                <tr>\n",
       "                        <th id=\"T_1f3083c6_d352_11ea_9887_9c305b4a6538level0_row0\" class=\"row_heading level0 row0\" >Female</th>\n",
       "                        <td id=\"T_1f3083c6_d352_11ea_9887_9c305b4a6538row0_col0\" class=\"data row0 col0\" >113</td>\n",
       "                        <td id=\"T_1f3083c6_d352_11ea_9887_9c305b4a6538row0_col1\" class=\"data row0 col1\" >$3.20</td>\n",
       "                        <td id=\"T_1f3083c6_d352_11ea_9887_9c305b4a6538row0_col2\" class=\"data row0 col2\" >$361.94</td>\n",
       "                        <td id=\"T_1f3083c6_d352_11ea_9887_9c305b4a6538row0_col3\" class=\"data row0 col3\" >$4.47</td>\n",
       "            </tr>\n",
       "            <tr>\n",
       "                        <th id=\"T_1f3083c6_d352_11ea_9887_9c305b4a6538level0_row1\" class=\"row_heading level0 row1\" >Male</th>\n",
       "                        <td id=\"T_1f3083c6_d352_11ea_9887_9c305b4a6538row1_col0\" class=\"data row1 col0\" >652</td>\n",
       "                        <td id=\"T_1f3083c6_d352_11ea_9887_9c305b4a6538row1_col1\" class=\"data row1 col1\" >$3.02</td>\n",
       "                        <td id=\"T_1f3083c6_d352_11ea_9887_9c305b4a6538row1_col2\" class=\"data row1 col2\" >$1,967.64</td>\n",
       "                        <td id=\"T_1f3083c6_d352_11ea_9887_9c305b4a6538row1_col3\" class=\"data row1 col3\" >$4.07</td>\n",
       "            </tr>\n",
       "            <tr>\n",
       "                        <th id=\"T_1f3083c6_d352_11ea_9887_9c305b4a6538level0_row2\" class=\"row_heading level0 row2\" >Other / Non-Disclosed</th>\n",
       "                        <td id=\"T_1f3083c6_d352_11ea_9887_9c305b4a6538row2_col0\" class=\"data row2 col0\" >15</td>\n",
       "                        <td id=\"T_1f3083c6_d352_11ea_9887_9c305b4a6538row2_col1\" class=\"data row2 col1\" >$3.35</td>\n",
       "                        <td id=\"T_1f3083c6_d352_11ea_9887_9c305b4a6538row2_col2\" class=\"data row2 col2\" >$50.19</td>\n",
       "                        <td id=\"T_1f3083c6_d352_11ea_9887_9c305b4a6538row2_col3\" class=\"data row2 col3\" >$4.56</td>\n",
       "            </tr>\n",
       "    </tbody></table>"
      ],
      "text/plain": [
       "<pandas.io.formats.style.Styler at 0x298f5160c18>"
      ]
     },
     "execution_count": 5,
     "metadata": {},
     "output_type": "execute_result"
    }
   ],
   "source": [
    "# Purchasing Analysis (Gender)\n",
    "\n",
    "# Purchase Count\n",
    "purchase_count = gender_stats[\"Purchase ID\"].count()\n",
    "\n",
    "# Average purchase price\n",
    "avg_purchase_price = gender_stats[\"Price\"].mean()\n",
    "\n",
    "# Average purchase total \n",
    "avg_purchase_total = gender_stats[\"Price\"].sum()\n",
    "\n",
    "# Average purchase total by gender divivded by purchase count \n",
    "avg_purchase_per_person = avg_purchase_total/TCG\n",
    "\n",
    "# Create the data frame\n",
    "gender_demographics = pd.DataFrame({\"Purchase Count\": purchase_count, \n",
    "                                    \"Avg Purchase Price\": avg_purchase_price,\n",
    "                                    \"Avg Purchase Value\":avg_purchase_total,\n",
    "                                    \"Avg Purchase Total per Person\": avg_purchase_per_person})\n",
    "\n",
    "# Add \"Gender\"\n",
    "gender_demographics.index.name = \"Gender\"\n",
    "\n",
    "# Format table\n",
    "gender_demographics.style.format({\"Avg Purchase Value\":\"${:,.2f}\",\n",
    "                                  \"Avg Purchase Price\":\"${:,.2f}\",\n",
    "                                  \"Avg Purchase Total per Person\":\"${:,.2f}\"})"
   ]
  },
  {
   "cell_type": "markdown",
   "metadata": {},
   "source": [
    "## Age Demographics"
   ]
  },
  {
   "cell_type": "markdown",
   "metadata": {},
   "source": [
    "* Establish bins for ages\n",
    "\n",
    "\n",
    "* Categorize the existing players using the age bins. Hint: use pd.cut()\n",
    "\n",
    "\n",
    "* Calculate the numbers and percentages by age group\n",
    "\n",
    "\n",
    "* Create a summary data frame to hold the results\n",
    "\n",
    "\n",
    "* Optional: round the percentage column to two decimal points\n",
    "\n",
    "\n",
    "* Display Age Demographics Table\n"
   ]
  },
  {
   "cell_type": "code",
   "execution_count": 6,
   "metadata": {},
   "outputs": [
    {
     "data": {
      "text/html": [
       "<style  type=\"text/css\" >\n",
       "</style><table id=\"T_1f450f0c_d352_11ea_bc3f_9c305b4a6538\" ><thead>    <tr>        <th class=\"blank level0\" ></th>        <th class=\"col_heading level0 col0\" >Total Count</th>        <th class=\"col_heading level0 col1\" >Percentage of Players</th>    </tr></thead><tbody>\n",
       "                <tr>\n",
       "                        <th id=\"T_1f450f0c_d352_11ea_bc3f_9c305b4a6538level0_row0\" class=\"row_heading level0 row0\" ><10</th>\n",
       "                        <td id=\"T_1f450f0c_d352_11ea_bc3f_9c305b4a6538row0_col0\" class=\"data row0 col0\" >17</td>\n",
       "                        <td id=\"T_1f450f0c_d352_11ea_bc3f_9c305b4a6538row0_col1\" class=\"data row0 col1\" >2.95%</td>\n",
       "            </tr>\n",
       "            <tr>\n",
       "                        <th id=\"T_1f450f0c_d352_11ea_bc3f_9c305b4a6538level0_row1\" class=\"row_heading level0 row1\" >10-14</th>\n",
       "                        <td id=\"T_1f450f0c_d352_11ea_bc3f_9c305b4a6538row1_col0\" class=\"data row1 col0\" >22</td>\n",
       "                        <td id=\"T_1f450f0c_d352_11ea_bc3f_9c305b4a6538row1_col1\" class=\"data row1 col1\" >3.82%</td>\n",
       "            </tr>\n",
       "            <tr>\n",
       "                        <th id=\"T_1f450f0c_d352_11ea_bc3f_9c305b4a6538level0_row2\" class=\"row_heading level0 row2\" >15-19</th>\n",
       "                        <td id=\"T_1f450f0c_d352_11ea_bc3f_9c305b4a6538row2_col0\" class=\"data row2 col0\" >107</td>\n",
       "                        <td id=\"T_1f450f0c_d352_11ea_bc3f_9c305b4a6538row2_col1\" class=\"data row2 col1\" >18.58%</td>\n",
       "            </tr>\n",
       "            <tr>\n",
       "                        <th id=\"T_1f450f0c_d352_11ea_bc3f_9c305b4a6538level0_row3\" class=\"row_heading level0 row3\" >20-24</th>\n",
       "                        <td id=\"T_1f450f0c_d352_11ea_bc3f_9c305b4a6538row3_col0\" class=\"data row3 col0\" >258</td>\n",
       "                        <td id=\"T_1f450f0c_d352_11ea_bc3f_9c305b4a6538row3_col1\" class=\"data row3 col1\" >44.79%</td>\n",
       "            </tr>\n",
       "            <tr>\n",
       "                        <th id=\"T_1f450f0c_d352_11ea_bc3f_9c305b4a6538level0_row4\" class=\"row_heading level0 row4\" >25-29</th>\n",
       "                        <td id=\"T_1f450f0c_d352_11ea_bc3f_9c305b4a6538row4_col0\" class=\"data row4 col0\" >77</td>\n",
       "                        <td id=\"T_1f450f0c_d352_11ea_bc3f_9c305b4a6538row4_col1\" class=\"data row4 col1\" >13.37%</td>\n",
       "            </tr>\n",
       "            <tr>\n",
       "                        <th id=\"T_1f450f0c_d352_11ea_bc3f_9c305b4a6538level0_row5\" class=\"row_heading level0 row5\" >30-34</th>\n",
       "                        <td id=\"T_1f450f0c_d352_11ea_bc3f_9c305b4a6538row5_col0\" class=\"data row5 col0\" >52</td>\n",
       "                        <td id=\"T_1f450f0c_d352_11ea_bc3f_9c305b4a6538row5_col1\" class=\"data row5 col1\" >9.03%</td>\n",
       "            </tr>\n",
       "            <tr>\n",
       "                        <th id=\"T_1f450f0c_d352_11ea_bc3f_9c305b4a6538level0_row6\" class=\"row_heading level0 row6\" >35-39</th>\n",
       "                        <td id=\"T_1f450f0c_d352_11ea_bc3f_9c305b4a6538row6_col0\" class=\"data row6 col0\" >31</td>\n",
       "                        <td id=\"T_1f450f0c_d352_11ea_bc3f_9c305b4a6538row6_col1\" class=\"data row6 col1\" >5.38%</td>\n",
       "            </tr>\n",
       "            <tr>\n",
       "                        <th id=\"T_1f450f0c_d352_11ea_bc3f_9c305b4a6538level0_row7\" class=\"row_heading level0 row7\" >40+</th>\n",
       "                        <td id=\"T_1f450f0c_d352_11ea_bc3f_9c305b4a6538row7_col0\" class=\"data row7 col0\" >12</td>\n",
       "                        <td id=\"T_1f450f0c_d352_11ea_bc3f_9c305b4a6538row7_col1\" class=\"data row7 col1\" >2.08%</td>\n",
       "            </tr>\n",
       "    </tbody></table>"
      ],
      "text/plain": [
       "<pandas.io.formats.style.Styler at 0x298f61ce5c0>"
      ]
     },
     "execution_count": 6,
     "metadata": {},
     "output_type": "execute_result"
    }
   ],
   "source": [
    "# Age Demographics\n",
    "\n",
    "# The below each broken into bins of 4 years (i.e. &lt;10, 10-14, 15-19, etc.)\n",
    "age_bins = [0, 9.90, 14.90, 19.90, 24.90, 29.90, 34.90, 39.90, 99999]\n",
    "group_names = [\"<10\", \"10-14\", \"15-19\", \"20-24\", \"25-29\", \"30-34\", \"35-39\", \"40+\"]\n",
    "\n",
    "# Sort into bins\n",
    "purchase_data[\"Age Group\"] = pd.cut(purchase_data[\"Age\"],age_bins, labels=group_names)\n",
    "purchase_data\n",
    "\n",
    "# Create data frame with \"Age Group\" and group it\n",
    "age_grouped = purchase_data.groupby(\"Age Group\")\n",
    "\n",
    "# Count total players by age\n",
    "total_count_age = age_grouped[\"SN\"].nunique()\n",
    "\n",
    "# Calculate percentages\n",
    "percentage_by_age = (total_count_age/player_count) * 100\n",
    "\n",
    "# Create data frame\n",
    "age_demographics = pd.DataFrame({\"Total Count\": total_count_age,\n",
    "                                 \"Percentage of Players\": percentage_by_age})\n",
    "\n",
    "# Format data frame with no index\n",
    "age_demographics.index.name = None\n",
    "\n",
    "# Format percentages\n",
    "age_demographics.style.format({\"Percentage of Players\":\"{:,.2f}%\"})"
   ]
  },
  {
   "cell_type": "markdown",
   "metadata": {},
   "source": [
    "## Purchasing Analysis (Age)"
   ]
  },
  {
   "cell_type": "markdown",
   "metadata": {},
   "source": [
    "* Bin the purchase_data data frame by age\n",
    "\n",
    "\n",
    "* Run basic calculations to obtain purchase count, avg. purchase price, avg. purchase total per person etc. in the table below\n",
    "\n",
    "\n",
    "* Create a summary data frame to hold the results\n",
    "\n",
    "\n",
    "* Optional: give the displayed data cleaner formatting\n",
    "\n",
    "\n",
    "* Display the summary data frame"
   ]
  },
  {
   "cell_type": "code",
   "execution_count": 7,
   "metadata": {},
   "outputs": [
    {
     "data": {
      "text/html": [
       "<style  type=\"text/css\" >\n",
       "</style><table id=\"T_1f55cc74_d352_11ea_a96c_9c305b4a6538\" ><thead>    <tr>        <th class=\"blank level0\" ></th>        <th class=\"col_heading level0 col0\" >Purchase Count</th>        <th class=\"col_heading level0 col1\" >Avg Purchase Price</th>        <th class=\"col_heading level0 col2\" >Total Purchase Value</th>        <th class=\"col_heading level0 col3\" >Avg Purchase $ per Person</th>    </tr></thead><tbody>\n",
       "                <tr>\n",
       "                        <th id=\"T_1f55cc74_d352_11ea_a96c_9c305b4a6538level0_row0\" class=\"row_heading level0 row0\" ><10</th>\n",
       "                        <td id=\"T_1f55cc74_d352_11ea_a96c_9c305b4a6538row0_col0\" class=\"data row0 col0\" >23</td>\n",
       "                        <td id=\"T_1f55cc74_d352_11ea_a96c_9c305b4a6538row0_col1\" class=\"data row0 col1\" >$3.35</td>\n",
       "                        <td id=\"T_1f55cc74_d352_11ea_a96c_9c305b4a6538row0_col2\" class=\"data row0 col2\" >$77.13</td>\n",
       "                        <td id=\"T_1f55cc74_d352_11ea_a96c_9c305b4a6538row0_col3\" class=\"data row0 col3\" >$4.54</td>\n",
       "            </tr>\n",
       "            <tr>\n",
       "                        <th id=\"T_1f55cc74_d352_11ea_a96c_9c305b4a6538level0_row1\" class=\"row_heading level0 row1\" >10-14</th>\n",
       "                        <td id=\"T_1f55cc74_d352_11ea_a96c_9c305b4a6538row1_col0\" class=\"data row1 col0\" >28</td>\n",
       "                        <td id=\"T_1f55cc74_d352_11ea_a96c_9c305b4a6538row1_col1\" class=\"data row1 col1\" >$2.96</td>\n",
       "                        <td id=\"T_1f55cc74_d352_11ea_a96c_9c305b4a6538row1_col2\" class=\"data row1 col2\" >$82.78</td>\n",
       "                        <td id=\"T_1f55cc74_d352_11ea_a96c_9c305b4a6538row1_col3\" class=\"data row1 col3\" >$3.76</td>\n",
       "            </tr>\n",
       "            <tr>\n",
       "                        <th id=\"T_1f55cc74_d352_11ea_a96c_9c305b4a6538level0_row2\" class=\"row_heading level0 row2\" >15-19</th>\n",
       "                        <td id=\"T_1f55cc74_d352_11ea_a96c_9c305b4a6538row2_col0\" class=\"data row2 col0\" >136</td>\n",
       "                        <td id=\"T_1f55cc74_d352_11ea_a96c_9c305b4a6538row2_col1\" class=\"data row2 col1\" >$3.04</td>\n",
       "                        <td id=\"T_1f55cc74_d352_11ea_a96c_9c305b4a6538row2_col2\" class=\"data row2 col2\" >$412.89</td>\n",
       "                        <td id=\"T_1f55cc74_d352_11ea_a96c_9c305b4a6538row2_col3\" class=\"data row2 col3\" >$3.86</td>\n",
       "            </tr>\n",
       "            <tr>\n",
       "                        <th id=\"T_1f55cc74_d352_11ea_a96c_9c305b4a6538level0_row3\" class=\"row_heading level0 row3\" >20-24</th>\n",
       "                        <td id=\"T_1f55cc74_d352_11ea_a96c_9c305b4a6538row3_col0\" class=\"data row3 col0\" >365</td>\n",
       "                        <td id=\"T_1f55cc74_d352_11ea_a96c_9c305b4a6538row3_col1\" class=\"data row3 col1\" >$3.05</td>\n",
       "                        <td id=\"T_1f55cc74_d352_11ea_a96c_9c305b4a6538row3_col2\" class=\"data row3 col2\" >$1,114.06</td>\n",
       "                        <td id=\"T_1f55cc74_d352_11ea_a96c_9c305b4a6538row3_col3\" class=\"data row3 col3\" >$4.32</td>\n",
       "            </tr>\n",
       "            <tr>\n",
       "                        <th id=\"T_1f55cc74_d352_11ea_a96c_9c305b4a6538level0_row4\" class=\"row_heading level0 row4\" >25-29</th>\n",
       "                        <td id=\"T_1f55cc74_d352_11ea_a96c_9c305b4a6538row4_col0\" class=\"data row4 col0\" >101</td>\n",
       "                        <td id=\"T_1f55cc74_d352_11ea_a96c_9c305b4a6538row4_col1\" class=\"data row4 col1\" >$2.90</td>\n",
       "                        <td id=\"T_1f55cc74_d352_11ea_a96c_9c305b4a6538row4_col2\" class=\"data row4 col2\" >$293.00</td>\n",
       "                        <td id=\"T_1f55cc74_d352_11ea_a96c_9c305b4a6538row4_col3\" class=\"data row4 col3\" >$3.81</td>\n",
       "            </tr>\n",
       "            <tr>\n",
       "                        <th id=\"T_1f55cc74_d352_11ea_a96c_9c305b4a6538level0_row5\" class=\"row_heading level0 row5\" >30-34</th>\n",
       "                        <td id=\"T_1f55cc74_d352_11ea_a96c_9c305b4a6538row5_col0\" class=\"data row5 col0\" >73</td>\n",
       "                        <td id=\"T_1f55cc74_d352_11ea_a96c_9c305b4a6538row5_col1\" class=\"data row5 col1\" >$2.93</td>\n",
       "                        <td id=\"T_1f55cc74_d352_11ea_a96c_9c305b4a6538row5_col2\" class=\"data row5 col2\" >$214.00</td>\n",
       "                        <td id=\"T_1f55cc74_d352_11ea_a96c_9c305b4a6538row5_col3\" class=\"data row5 col3\" >$4.12</td>\n",
       "            </tr>\n",
       "            <tr>\n",
       "                        <th id=\"T_1f55cc74_d352_11ea_a96c_9c305b4a6538level0_row6\" class=\"row_heading level0 row6\" >35-39</th>\n",
       "                        <td id=\"T_1f55cc74_d352_11ea_a96c_9c305b4a6538row6_col0\" class=\"data row6 col0\" >41</td>\n",
       "                        <td id=\"T_1f55cc74_d352_11ea_a96c_9c305b4a6538row6_col1\" class=\"data row6 col1\" >$3.60</td>\n",
       "                        <td id=\"T_1f55cc74_d352_11ea_a96c_9c305b4a6538row6_col2\" class=\"data row6 col2\" >$147.67</td>\n",
       "                        <td id=\"T_1f55cc74_d352_11ea_a96c_9c305b4a6538row6_col3\" class=\"data row6 col3\" >$4.76</td>\n",
       "            </tr>\n",
       "            <tr>\n",
       "                        <th id=\"T_1f55cc74_d352_11ea_a96c_9c305b4a6538level0_row7\" class=\"row_heading level0 row7\" >40+</th>\n",
       "                        <td id=\"T_1f55cc74_d352_11ea_a96c_9c305b4a6538row7_col0\" class=\"data row7 col0\" >13</td>\n",
       "                        <td id=\"T_1f55cc74_d352_11ea_a96c_9c305b4a6538row7_col1\" class=\"data row7 col1\" >$2.94</td>\n",
       "                        <td id=\"T_1f55cc74_d352_11ea_a96c_9c305b4a6538row7_col2\" class=\"data row7 col2\" >$38.24</td>\n",
       "                        <td id=\"T_1f55cc74_d352_11ea_a96c_9c305b4a6538row7_col3\" class=\"data row7 col3\" >$3.19</td>\n",
       "            </tr>\n",
       "    </tbody></table>"
      ],
      "text/plain": [
       "<pandas.io.formats.style.Styler at 0x298f61ce860>"
      ]
     },
     "execution_count": 7,
     "metadata": {},
     "output_type": "execute_result"
    }
   ],
   "source": [
    "# Purchasing Analysis By Age Group\n",
    "\n",
    "# Purchases\n",
    "purchase_count_age = age_grouped[\"Purchase ID\"].count()\n",
    "\n",
    "# Average purchase price \n",
    "avg_purchase_price_age = age_grouped[\"Price\"].mean()\n",
    "\n",
    "# Total purchase value \n",
    "total_purchase_value = age_grouped[\"Price\"].sum()\n",
    "\n",
    "# Average purchase per person \n",
    "avg_purchase_per_person_age = total_purchase_value/total_count_age\n",
    "\n",
    "# Create data frame\n",
    "age_demographics = pd.DataFrame({\"Purchase Count\": purchase_count_age,\n",
    "                                 \"Avg Purchase Price\": avg_purchase_price_age,\n",
    "                                 \"Total Purchase Value\":total_purchase_value,\n",
    "                                 \"Avg Purchase $ per Person\": avg_purchase_per_person_age})\n",
    "\n",
    "# Format data frame with no index\n",
    "age_demographics.index.name = None\n",
    "\n",
    "# Format with currency style\n",
    "age_demographics.style.format({\"Avg Purchase Price\":\"${:,.2f}\",\n",
    "                               \"Total Purchase Value\":\"${:,.2f}\",\n",
    "                               \"Avg Purchase $ per Person\":\"${:,.2f}\"})"
   ]
  },
  {
   "cell_type": "markdown",
   "metadata": {},
   "source": [
    "## Top Spenders"
   ]
  },
  {
   "cell_type": "markdown",
   "metadata": {},
   "source": [
    "* Run basic calculations to obtain the results in the table below\n",
    "\n",
    "\n",
    "* Create a summary data frame to hold the results\n",
    "\n",
    "\n",
    "* Sort the total purchase value column in descending order\n",
    "\n",
    "\n",
    "* Optional: give the displayed data cleaner formatting\n",
    "\n",
    "\n",
    "* Display a preview of the summary data frame\n",
    "\n"
   ]
  },
  {
   "cell_type": "code",
   "execution_count": 8,
   "metadata": {},
   "outputs": [
    {
     "data": {
      "text/html": [
       "<style  type=\"text/css\" >\n",
       "</style><table id=\"T_1f6f5d6e_d352_11ea_ab0b_9c305b4a6538\" ><thead>    <tr>        <th class=\"blank level0\" ></th>        <th class=\"col_heading level0 col0\" >Purchase Count</th>        <th class=\"col_heading level0 col1\" >Avg Purchase Price</th>        <th class=\"col_heading level0 col2\" >Total Purchase Value</th>    </tr>    <tr>        <th class=\"index_name level0\" >SN</th>        <th class=\"blank\" ></th>        <th class=\"blank\" ></th>        <th class=\"blank\" ></th>    </tr></thead><tbody>\n",
       "                <tr>\n",
       "                        <th id=\"T_1f6f5d6e_d352_11ea_ab0b_9c305b4a6538level0_row0\" class=\"row_heading level0 row0\" >Lisosia93</th>\n",
       "                        <td id=\"T_1f6f5d6e_d352_11ea_ab0b_9c305b4a6538row0_col0\" class=\"data row0 col0\" >5</td>\n",
       "                        <td id=\"T_1f6f5d6e_d352_11ea_ab0b_9c305b4a6538row0_col1\" class=\"data row0 col1\" >$3.79</td>\n",
       "                        <td id=\"T_1f6f5d6e_d352_11ea_ab0b_9c305b4a6538row0_col2\" class=\"data row0 col2\" >$18.96</td>\n",
       "            </tr>\n",
       "            <tr>\n",
       "                        <th id=\"T_1f6f5d6e_d352_11ea_ab0b_9c305b4a6538level0_row1\" class=\"row_heading level0 row1\" >Idastidru52</th>\n",
       "                        <td id=\"T_1f6f5d6e_d352_11ea_ab0b_9c305b4a6538row1_col0\" class=\"data row1 col0\" >4</td>\n",
       "                        <td id=\"T_1f6f5d6e_d352_11ea_ab0b_9c305b4a6538row1_col1\" class=\"data row1 col1\" >$3.86</td>\n",
       "                        <td id=\"T_1f6f5d6e_d352_11ea_ab0b_9c305b4a6538row1_col2\" class=\"data row1 col2\" >$15.45</td>\n",
       "            </tr>\n",
       "            <tr>\n",
       "                        <th id=\"T_1f6f5d6e_d352_11ea_ab0b_9c305b4a6538level0_row2\" class=\"row_heading level0 row2\" >Chamjask73</th>\n",
       "                        <td id=\"T_1f6f5d6e_d352_11ea_ab0b_9c305b4a6538row2_col0\" class=\"data row2 col0\" >3</td>\n",
       "                        <td id=\"T_1f6f5d6e_d352_11ea_ab0b_9c305b4a6538row2_col1\" class=\"data row2 col1\" >$4.61</td>\n",
       "                        <td id=\"T_1f6f5d6e_d352_11ea_ab0b_9c305b4a6538row2_col2\" class=\"data row2 col2\" >$13.83</td>\n",
       "            </tr>\n",
       "            <tr>\n",
       "                        <th id=\"T_1f6f5d6e_d352_11ea_ab0b_9c305b4a6538level0_row3\" class=\"row_heading level0 row3\" >Iral74</th>\n",
       "                        <td id=\"T_1f6f5d6e_d352_11ea_ab0b_9c305b4a6538row3_col0\" class=\"data row3 col0\" >4</td>\n",
       "                        <td id=\"T_1f6f5d6e_d352_11ea_ab0b_9c305b4a6538row3_col1\" class=\"data row3 col1\" >$3.40</td>\n",
       "                        <td id=\"T_1f6f5d6e_d352_11ea_ab0b_9c305b4a6538row3_col2\" class=\"data row3 col2\" >$13.62</td>\n",
       "            </tr>\n",
       "            <tr>\n",
       "                        <th id=\"T_1f6f5d6e_d352_11ea_ab0b_9c305b4a6538level0_row4\" class=\"row_heading level0 row4\" >Iskadarya95</th>\n",
       "                        <td id=\"T_1f6f5d6e_d352_11ea_ab0b_9c305b4a6538row4_col0\" class=\"data row4 col0\" >3</td>\n",
       "                        <td id=\"T_1f6f5d6e_d352_11ea_ab0b_9c305b4a6538row4_col1\" class=\"data row4 col1\" >$4.37</td>\n",
       "                        <td id=\"T_1f6f5d6e_d352_11ea_ab0b_9c305b4a6538row4_col2\" class=\"data row4 col2\" >$13.10</td>\n",
       "            </tr>\n",
       "    </tbody></table>"
      ],
      "text/plain": [
       "<pandas.io.formats.style.Styler at 0x298f61d03c8>"
      ]
     },
     "execution_count": 8,
     "metadata": {},
     "output_type": "execute_result"
    }
   ],
   "source": [
    "# Top Spenders\n",
    "\n",
    "# Group purchase data by screen names\n",
    "purchase_stats = purchase_data.groupby(\"SN\")\n",
    "\n",
    "# Count the total purchases by name\n",
    "purchase_count_spender = purchase_stats[\"Purchase ID\"].count()\n",
    "\n",
    "# Calculate the average purchase by name \n",
    "avg_purchase_price_spender = purchase_stats[\"Price\"].mean()\n",
    "\n",
    "# Calculate purchase total \n",
    "purchase_total_spender = purchase_stats[\"Price\"].sum()\n",
    "\n",
    "# Create data frame with obtained values\n",
    "top_spenders = pd.DataFrame({\"Purchase Count\": purchase_count_spender,\n",
    "                             \"Avg Purchase Price\": avg_purchase_price_spender,\n",
    "                             \"Total Purchase Value\":purchase_total_spender})\n",
    "\n",
    "# Sort in descending order to obtain top 5 spender names \n",
    "formatted_spenders = top_spenders.sort_values([\"Total Purchase Value\"], \n",
    "                                              ascending=False).head()\n",
    "\n",
    "# Format with currency style\n",
    "formatted_spenders.style.format({\"Avg Purchase Total\":\"${:,.2f}\",\n",
    "                                 \"Avg Purchase Price\":\"${:,.2f}\", \n",
    "                                 \"Total Purchase Value\":\"${:,.2f}\"})"
   ]
  },
  {
   "cell_type": "markdown",
   "metadata": {},
   "source": [
    "## Most Popular Items"
   ]
  },
  {
   "cell_type": "markdown",
   "metadata": {},
   "source": [
    "* Retrieve the Item ID, Item Name, and Item Price columns\n",
    "\n",
    "\n",
    "* Group by Item ID and Item Name. Perform calculations to obtain purchase count, item price, and total purchase value\n",
    "\n",
    "\n",
    "* Create a summary data frame to hold the results\n",
    "\n",
    "\n",
    "* Sort the purchase count column in descending order\n",
    "\n",
    "\n",
    "* Optional: give the displayed data cleaner formatting\n",
    "\n",
    "\n",
    "* Display a preview of the summary data frame\n",
    "\n"
   ]
  },
  {
   "cell_type": "code",
   "execution_count": 9,
   "metadata": {},
   "outputs": [
    {
     "data": {
      "text/html": [
       "<style  type=\"text/css\" >\n",
       "</style><table id=\"T_1f7fcd06_d352_11ea_9021_9c305b4a6538\" ><thead>    <tr>        <th class=\"blank\" ></th>        <th class=\"blank level0\" ></th>        <th class=\"col_heading level0 col0\" >Purchase Count</th>        <th class=\"col_heading level0 col1\" >Item Price</th>        <th class=\"col_heading level0 col2\" >Total Purchase Value</th>    </tr>    <tr>        <th class=\"index_name level0\" >Item ID</th>        <th class=\"index_name level1\" >Item Name</th>        <th class=\"blank\" ></th>        <th class=\"blank\" ></th>        <th class=\"blank\" ></th>    </tr></thead><tbody>\n",
       "                <tr>\n",
       "                        <th id=\"T_1f7fcd06_d352_11ea_9021_9c305b4a6538level0_row0\" class=\"row_heading level0 row0\" >92</th>\n",
       "                        <th id=\"T_1f7fcd06_d352_11ea_9021_9c305b4a6538level1_row0\" class=\"row_heading level1 row0\" >Final Critic</th>\n",
       "                        <td id=\"T_1f7fcd06_d352_11ea_9021_9c305b4a6538row0_col0\" class=\"data row0 col0\" >13</td>\n",
       "                        <td id=\"T_1f7fcd06_d352_11ea_9021_9c305b4a6538row0_col1\" class=\"data row0 col1\" >$4.61</td>\n",
       "                        <td id=\"T_1f7fcd06_d352_11ea_9021_9c305b4a6538row0_col2\" class=\"data row0 col2\" >$59.99</td>\n",
       "            </tr>\n",
       "            <tr>\n",
       "                        <th id=\"T_1f7fcd06_d352_11ea_9021_9c305b4a6538level0_row1\" class=\"row_heading level0 row1\" >178</th>\n",
       "                        <th id=\"T_1f7fcd06_d352_11ea_9021_9c305b4a6538level1_row1\" class=\"row_heading level1 row1\" >Oathbreaker, Last Hope of the Breaking Storm</th>\n",
       "                        <td id=\"T_1f7fcd06_d352_11ea_9021_9c305b4a6538row1_col0\" class=\"data row1 col0\" >12</td>\n",
       "                        <td id=\"T_1f7fcd06_d352_11ea_9021_9c305b4a6538row1_col1\" class=\"data row1 col1\" >$4.23</td>\n",
       "                        <td id=\"T_1f7fcd06_d352_11ea_9021_9c305b4a6538row1_col2\" class=\"data row1 col2\" >$50.76</td>\n",
       "            </tr>\n",
       "            <tr>\n",
       "                        <th id=\"T_1f7fcd06_d352_11ea_9021_9c305b4a6538level0_row2\" class=\"row_heading level0 row2\" >145</th>\n",
       "                        <th id=\"T_1f7fcd06_d352_11ea_9021_9c305b4a6538level1_row2\" class=\"row_heading level1 row2\" >Fiery Glass Crusader</th>\n",
       "                        <td id=\"T_1f7fcd06_d352_11ea_9021_9c305b4a6538row2_col0\" class=\"data row2 col0\" >9</td>\n",
       "                        <td id=\"T_1f7fcd06_d352_11ea_9021_9c305b4a6538row2_col1\" class=\"data row2 col1\" >$4.58</td>\n",
       "                        <td id=\"T_1f7fcd06_d352_11ea_9021_9c305b4a6538row2_col2\" class=\"data row2 col2\" >$41.22</td>\n",
       "            </tr>\n",
       "            <tr>\n",
       "                        <th id=\"T_1f7fcd06_d352_11ea_9021_9c305b4a6538level0_row3\" class=\"row_heading level0 row3\" >132</th>\n",
       "                        <th id=\"T_1f7fcd06_d352_11ea_9021_9c305b4a6538level1_row3\" class=\"row_heading level1 row3\" >Persuasion</th>\n",
       "                        <td id=\"T_1f7fcd06_d352_11ea_9021_9c305b4a6538row3_col0\" class=\"data row3 col0\" >9</td>\n",
       "                        <td id=\"T_1f7fcd06_d352_11ea_9021_9c305b4a6538row3_col1\" class=\"data row3 col1\" >$3.22</td>\n",
       "                        <td id=\"T_1f7fcd06_d352_11ea_9021_9c305b4a6538row3_col2\" class=\"data row3 col2\" >$28.99</td>\n",
       "            </tr>\n",
       "            <tr>\n",
       "                        <th id=\"T_1f7fcd06_d352_11ea_9021_9c305b4a6538level0_row4\" class=\"row_heading level0 row4\" >108</th>\n",
       "                        <th id=\"T_1f7fcd06_d352_11ea_9021_9c305b4a6538level1_row4\" class=\"row_heading level1 row4\" >Extraction, Quickblade Of Trembling Hands</th>\n",
       "                        <td id=\"T_1f7fcd06_d352_11ea_9021_9c305b4a6538row4_col0\" class=\"data row4 col0\" >9</td>\n",
       "                        <td id=\"T_1f7fcd06_d352_11ea_9021_9c305b4a6538row4_col1\" class=\"data row4 col1\" >$3.53</td>\n",
       "                        <td id=\"T_1f7fcd06_d352_11ea_9021_9c305b4a6538row4_col2\" class=\"data row4 col2\" >$31.77</td>\n",
       "            </tr>\n",
       "    </tbody></table>"
      ],
      "text/plain": [
       "<pandas.io.formats.style.Styler at 0x298f61d07b8>"
      ]
     },
     "execution_count": 9,
     "metadata": {},
     "output_type": "execute_result"
    }
   ],
   "source": [
    "# Most Popular Items\n",
    "\n",
    "# New data frame \n",
    "items = purchase_data[[\"Item ID\", \"Item Name\", \"Price\"]]\n",
    "\n",
    "# Group the item data\n",
    "item_stats = items.groupby([\"Item ID\",\"Item Name\"])\n",
    "\n",
    "# Number of times an item has been purchased \n",
    "purchase_count_item = item_stats[\"Price\"].count()\n",
    "\n",
    "# Purchase value per item \n",
    "purchase_value = (item_stats[\"Price\"].sum()) \n",
    "\n",
    "# Item price\n",
    "item_price = purchase_value/purchase_count_item\n",
    "\n",
    "# Data frame with values\n",
    "most_popular_items = pd.DataFrame({\"Purchase Count\": purchase_count_item, \n",
    "                                   \"Item Price\": item_price,\n",
    "                                   \"Total Purchase Value\":purchase_value})\n",
    "\n",
    "# Top spenders and top 5 items in order\n",
    "popular_formatted = most_popular_items.sort_values([\"Purchase Count\"], \n",
    "                                                   ascending=False).head()\n",
    "\n",
    "# Format\n",
    "popular_formatted.style.format({\"Item Price\":\"${:,.2f}\",\n",
    "                                \"Total Purchase Value\":\"${:,.2f}\"})"
   ]
  },
  {
   "cell_type": "markdown",
   "metadata": {},
   "source": [
    "## Most Profitable Items"
   ]
  },
  {
   "cell_type": "markdown",
   "metadata": {},
   "source": [
    "* Sort the above table by total purchase value in descending order\n",
    "\n",
    "\n",
    "* Optional: give the displayed data cleaner formatting\n",
    "\n",
    "\n",
    "* Display a preview of the data frame\n",
    "\n"
   ]
  },
  {
   "cell_type": "code",
   "execution_count": 10,
   "metadata": {
    "scrolled": true
   },
   "outputs": [
    {
     "data": {
      "text/html": [
       "<style  type=\"text/css\" >\n",
       "</style><table id=\"T_1f95dddc_d352_11ea_a2e6_9c305b4a6538\" ><thead>    <tr>        <th class=\"blank\" ></th>        <th class=\"blank level0\" ></th>        <th class=\"col_heading level0 col0\" >Purchase Count</th>        <th class=\"col_heading level0 col1\" >Item Price</th>        <th class=\"col_heading level0 col2\" >Total Purchase Value</th>    </tr>    <tr>        <th class=\"index_name level0\" >Item ID</th>        <th class=\"index_name level1\" >Item Name</th>        <th class=\"blank\" ></th>        <th class=\"blank\" ></th>        <th class=\"blank\" ></th>    </tr></thead><tbody>\n",
       "                <tr>\n",
       "                        <th id=\"T_1f95dddc_d352_11ea_a2e6_9c305b4a6538level0_row0\" class=\"row_heading level0 row0\" >92</th>\n",
       "                        <th id=\"T_1f95dddc_d352_11ea_a2e6_9c305b4a6538level1_row0\" class=\"row_heading level1 row0\" >Final Critic</th>\n",
       "                        <td id=\"T_1f95dddc_d352_11ea_a2e6_9c305b4a6538row0_col0\" class=\"data row0 col0\" >13</td>\n",
       "                        <td id=\"T_1f95dddc_d352_11ea_a2e6_9c305b4a6538row0_col1\" class=\"data row0 col1\" >$4.61</td>\n",
       "                        <td id=\"T_1f95dddc_d352_11ea_a2e6_9c305b4a6538row0_col2\" class=\"data row0 col2\" >$59.99</td>\n",
       "            </tr>\n",
       "            <tr>\n",
       "                        <th id=\"T_1f95dddc_d352_11ea_a2e6_9c305b4a6538level0_row1\" class=\"row_heading level0 row1\" >178</th>\n",
       "                        <th id=\"T_1f95dddc_d352_11ea_a2e6_9c305b4a6538level1_row1\" class=\"row_heading level1 row1\" >Oathbreaker, Last Hope of the Breaking Storm</th>\n",
       "                        <td id=\"T_1f95dddc_d352_11ea_a2e6_9c305b4a6538row1_col0\" class=\"data row1 col0\" >12</td>\n",
       "                        <td id=\"T_1f95dddc_d352_11ea_a2e6_9c305b4a6538row1_col1\" class=\"data row1 col1\" >$4.23</td>\n",
       "                        <td id=\"T_1f95dddc_d352_11ea_a2e6_9c305b4a6538row1_col2\" class=\"data row1 col2\" >$50.76</td>\n",
       "            </tr>\n",
       "            <tr>\n",
       "                        <th id=\"T_1f95dddc_d352_11ea_a2e6_9c305b4a6538level0_row2\" class=\"row_heading level0 row2\" >82</th>\n",
       "                        <th id=\"T_1f95dddc_d352_11ea_a2e6_9c305b4a6538level1_row2\" class=\"row_heading level1 row2\" >Nirvana</th>\n",
       "                        <td id=\"T_1f95dddc_d352_11ea_a2e6_9c305b4a6538row2_col0\" class=\"data row2 col0\" >9</td>\n",
       "                        <td id=\"T_1f95dddc_d352_11ea_a2e6_9c305b4a6538row2_col1\" class=\"data row2 col1\" >$4.90</td>\n",
       "                        <td id=\"T_1f95dddc_d352_11ea_a2e6_9c305b4a6538row2_col2\" class=\"data row2 col2\" >$44.10</td>\n",
       "            </tr>\n",
       "            <tr>\n",
       "                        <th id=\"T_1f95dddc_d352_11ea_a2e6_9c305b4a6538level0_row3\" class=\"row_heading level0 row3\" >145</th>\n",
       "                        <th id=\"T_1f95dddc_d352_11ea_a2e6_9c305b4a6538level1_row3\" class=\"row_heading level1 row3\" >Fiery Glass Crusader</th>\n",
       "                        <td id=\"T_1f95dddc_d352_11ea_a2e6_9c305b4a6538row3_col0\" class=\"data row3 col0\" >9</td>\n",
       "                        <td id=\"T_1f95dddc_d352_11ea_a2e6_9c305b4a6538row3_col1\" class=\"data row3 col1\" >$4.58</td>\n",
       "                        <td id=\"T_1f95dddc_d352_11ea_a2e6_9c305b4a6538row3_col2\" class=\"data row3 col2\" >$41.22</td>\n",
       "            </tr>\n",
       "            <tr>\n",
       "                        <th id=\"T_1f95dddc_d352_11ea_a2e6_9c305b4a6538level0_row4\" class=\"row_heading level0 row4\" >103</th>\n",
       "                        <th id=\"T_1f95dddc_d352_11ea_a2e6_9c305b4a6538level1_row4\" class=\"row_heading level1 row4\" >Singed Scalpel</th>\n",
       "                        <td id=\"T_1f95dddc_d352_11ea_a2e6_9c305b4a6538row4_col0\" class=\"data row4 col0\" >8</td>\n",
       "                        <td id=\"T_1f95dddc_d352_11ea_a2e6_9c305b4a6538row4_col1\" class=\"data row4 col1\" >$4.35</td>\n",
       "                        <td id=\"T_1f95dddc_d352_11ea_a2e6_9c305b4a6538row4_col2\" class=\"data row4 col2\" >$34.80</td>\n",
       "            </tr>\n",
       "    </tbody></table>"
      ],
      "text/plain": [
       "<pandas.io.formats.style.Styler at 0x298f61f5a58>"
      ]
     },
     "execution_count": 10,
     "metadata": {},
     "output_type": "execute_result"
    }
   ],
   "source": [
    "# Most Profitable Items\n",
    "popular_formatted = most_popular_items.sort_values([\"Total Purchase Value\"],\n",
    "                                                   ascending=False).head()\n",
    "# Currency style format\n",
    "popular_formatted.style.format({\"Item Price\":\"${:,.2f}\",\n",
    "                                \"Total Purchase Value\":\"${:,.2f}\"})"
   ]
  },
  {
   "cell_type": "code",
   "execution_count": 11,
   "metadata": {},
   "outputs": [],
   "source": [
    "# Analysis: Heroes of Pymoli:\n",
    "\n",
    "    # 1. At an average price of $3.05 per game, clearly the driving force behind revenue would be volume. Goal is\n",
    "    #    to get as many players as possible to part with $3.\n",
    "    # 2. Male buyers outnumber females nearly 6 to 1.\n",
    "    # 3. Most frequent buyers are players in the 20-24 age group.\n",
    "    # 4. Only 7% of total players are older than 34."
   ]
  }
 ],
 "metadata": {
  "anaconda-cloud": {},
  "kernel_info": {
   "name": "python3"
  },
  "kernelspec": {
   "display_name": "Python 3",
   "language": "python",
   "name": "python3"
  },
  "language_info": {
   "codemirror_mode": {
    "name": "ipython",
    "version": 3
   },
   "file_extension": ".py",
   "mimetype": "text/x-python",
   "name": "python",
   "nbconvert_exporter": "python",
   "pygments_lexer": "ipython3",
   "version": "3.6.10"
  },
  "latex_envs": {
   "LaTeX_envs_menu_present": true,
   "autoclose": false,
   "autocomplete": true,
   "bibliofile": "biblio.bib",
   "cite_by": "apalike",
   "current_citInitial": 1,
   "eqLabelWithNumbers": true,
   "eqNumInitial": 1,
   "hotkeys": {
    "equation": "Ctrl-E",
    "itemize": "Ctrl-I"
   },
   "labels_anchors": false,
   "latex_user_defs": false,
   "report_style_numbering": false,
   "user_envs_cfg": false
  },
  "nteract": {
   "version": "0.2.0"
  }
 },
 "nbformat": 4,
 "nbformat_minor": 2
}
